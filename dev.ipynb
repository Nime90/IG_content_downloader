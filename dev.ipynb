{
 "cells": [
  {
   "cell_type": "code",
   "execution_count": null,
   "metadata": {},
   "outputs": [],
   "source": [
    "from selenium import webdriver\n",
    "from selenium.webdriver.chrome.options import Options\n",
    "from selenium.webdriver.common.by import By\n",
    "import time, os,requests\n",
    "from time import sleep\n",
    "from bs4 import BeautifulSoup\n",
    "from selenium.webdriver.common.keys import Keys\n",
    "from selenium.webdriver.common.action_chains import ActionChains\n",
    "\n",
    "video_url = 'https://www.instagram.com/emmafituk_/?hl=en'\n",
    "#create results folder if does not exists\n",
    "res_folder=os.getcwd()+'/results'\n",
    "os.makedirs(res_folder, exist_ok=True)\n",
    "#initiate webdriver\n",
    "chrome_options = Options()\n",
    "#chrome_options.add_argument(\"--headless\")  # Optional: run in headless mode\n",
    "prefs = {\"download.default_directory\" : res_folder}\n",
    "chrome_options.add_experimental_option(\"prefs\",prefs)\n",
    "chrome_options.add_argument(\"--headless=new\")  # Use the newer headless mode\n",
    "chrome_options.add_argument(\"--window-size=1920,1080\")  # Set a large enough window size\n",
    "chrome_options.add_argument(\"--disable-gpu\")  # Sometimes useful in headless\n",
    "chrome_options.add_argument(\"--no-sandbox\")\n",
    "chrome_options.add_argument(\"--disable-dev-shm-usage\")\n",
    "\n",
    "\n",
    "driver = webdriver.Chrome(options=chrome_options)\n",
    "driver.get('https://fastdl.app/en')\n",
    "driver.implicitly_wait(10) \n",
    "\n",
    "input_element=driver.find_element(By.CSS_SELECTOR,'input')\n",
    "driver.implicitly_wait(10)\n",
    "input_element.click()\n",
    "\n",
    "driver.implicitly_wait(10) \n",
    "input_element.send_keys(video_url)\n",
    "driver.implicitly_wait(10) \n",
    "button = driver.find_element(By.CSS_SELECTOR, 'button.search-form__button[type=\"submit\"]')\n",
    "button.click()\n",
    "driver.implicitly_wait(10)\n",
    "time.sleep(5)\n",
    "\n",
    "body = driver.find_element(\"tag name\", \"body\")\n",
    "print(driver.execute_script(\"return document.body.scrollHeight\"))\n",
    "\n",
    "# Function to scroll down slowly\n",
    "def smooth_scroll_down(driver, scroll_pause_time=0.2, pixels_per_scroll=100):\n",
    "  current_scroll = 0  # Keep track of the current scroll position\n",
    "  while current_scroll < 10000:\n",
    "    driver.execute_script(f\"window.scrollBy(0, {pixels_per_scroll});\")\n",
    "    current_scroll += pixels_per_scroll\n",
    "    sleep(scroll_pause_time)\n",
    "\n",
    "# Call the smooth scrolling function\n",
    "smooth_scroll_down(driver)\n",
    "\n",
    "print(driver.execute_script(\"return document.body.scrollHeight\"))\n",
    "\n",
    "time.sleep(5)\n",
    "buttons = driver.find_elements(By.CSS_SELECTOR, \"a.button.button--filled.button__download\")\n",
    "len(buttons)"
   ]
  },
  {
   "cell_type": "code",
   "execution_count": null,
   "metadata": {},
   "outputs": [],
   "source": [
    "\n",
    "driver.quit()\n"
   ]
  },
  {
   "cell_type": "code",
   "execution_count": null,
   "metadata": {},
   "outputs": [],
   "source": [
    "buttons[0].get_attribute('href')"
   ]
  },
  {
   "cell_type": "code",
   "execution_count": null,
   "metadata": {},
   "outputs": [],
   "source": [
    "#import img in base 64\n",
    "import base64\n",
    "image_path = 'results/frames_DC7PCgOoF2t_2/DC7PCgOoF2t_0.jpg'\n",
    "with open(image_path, \"rb\") as image_file:\n",
    "    base64_string = base64.b64encode(image_file.read()).decode('utf-8')"
   ]
  },
  {
   "cell_type": "code",
   "execution_count": null,
   "metadata": {},
   "outputs": [],
   "source": [
    "base64_string"
   ]
  },
  {
   "cell_type": "code",
   "execution_count": null,
   "metadata": {},
   "outputs": [],
   "source": [
    "\n",
    "# Get list of all .jpg files in the directory\n",
    "import os\n",
    "directory = 'results/frames_DC7PCgOoF2t_2'\n",
    "jpg_files = [file for file in os.listdir(directory) if file.endswith(\".jpg\")]\n",
    "\n",
    "print(\"JPG files:\", jpg_files)"
   ]
  },
  {
   "cell_type": "code",
   "execution_count": null,
   "metadata": {},
   "outputs": [],
   "source": [
    "from utils.download_content import download_content\n",
    "from utils.coach_ig_info import coach_ig_info\n",
    "from utils.mp4_to_jpg import mp4_to_jpg\n",
    "from utils.img_interpreter import img_interpreter\n",
    "import os, shutil,base64\n",
    "\n",
    "\n",
    "#specify the video url\n",
    "coach_url = 'https://www.instagram.com/emmafituk_/?hl=en'\n",
    "posts_info = coach_ig_info(coach_url.split('/')[-2])"
   ]
  },
  {
   "cell_type": "code",
   "execution_count": null,
   "metadata": {},
   "outputs": [],
   "source": [
    "posts_info._date"
   ]
  },
  {
   "cell_type": "code",
   "execution_count": null,
   "metadata": {},
   "outputs": [],
   "source": [
    "import subprocess, os, shutil\n",
    "from moviepy.editor import VideoFileClip\n",
    "#compute video duration\n",
    "video_name='DC4_BEyRwbA_0.mp4'\n",
    "video_filename = 'results/'+video_name\n",
    "video_filename"
   ]
  },
  {
   "cell_type": "code",
   "execution_count": null,
   "metadata": {},
   "outputs": [],
   "source": [
    "def mp4_to_jpg(video_name = 'DDDEwC4pVWm_0.mp4'):\n",
    "  from moviepy.editor import VideoFileClip\n",
    "  import subprocess, os, shutil\n",
    "\n",
    "  #clean old results\n",
    "  directory=\"results/frames_\"+video_name[:-6]\n",
    "  if os.path.exists(directory): shutil.rmtree(directory)\n",
    "  os.mkdir(directory)\n",
    "\n",
    "  video_filename = 'results/'+video_name\n",
    "\n",
    "  #compute video duration\n",
    "  video = VideoFileClip(video_filename)\n",
    "  duration = video.duration\n",
    "  #compute the frames seconds based on the video length\n",
    "  seconds = [f\"00:00:{x:02}\" for x in [round(1 + i * (duration - 1) / 5) for i in range(6)]]\n",
    "\n",
    "  for x,second in enumerate(seconds):\n",
    "      command = 'ffmpeg -y -ss '+str(second)+' -i  '+video_filename +' -frames:v 1 '+directory+'/frame_'+str(x)+'.jpg'\n",
    "      subprocess.run(command, shell=True, executable=\"/bin/bash\",stdout=subprocess.DEVNULL, stderr=subprocess.DEVNULL)\n",
    "      \n",
    "  return directory"
   ]
  },
  {
   "cell_type": "code",
   "execution_count": null,
   "metadata": {},
   "outputs": [],
   "source": [
    "mp4_to_jpg(video_name='DC4_BEyRwbA_0.mp4')"
   ]
  },
  {
   "cell_type": "code",
   "execution_count": null,
   "metadata": {},
   "outputs": [],
   "source": [
    "os.remove('results/DC4_BEyRwbA_0.mp4')"
   ]
  },
  {
   "cell_type": "code",
   "execution_count": null,
   "metadata": {},
   "outputs": [],
   "source": [
    "directory = 'results/frames_DC4_BEyRwbA'\n",
    "images=[file for file in os.listdir(directory) if file.endswith(\".jpg\")]\n",
    "images"
   ]
  },
  {
   "cell_type": "code",
   "execution_count": null,
   "metadata": {},
   "outputs": [],
   "source": [
    "images_description = 'Summaries of the descriptions of the images in DC4_BEyRwbA content:\\n\\n'\n",
    "for i,ip in enumerate(images):\n",
    "    image_path=directory+'/'+ip\n",
    "    with open(image_path, \"rb\") as image_file: base64_string = base64.b64encode(image_file.read()).decode('utf-8')\n",
    "    img_description = img_interpreter(base64_string)\n",
    "    images_description = images_description + 'Image_'+str(i)+ ':' +img_description+'\\n\\n'\n",
    "    #delete the image\n",
    "    os.remove(image_path)"
   ]
  },
  {
   "cell_type": "code",
   "execution_count": null,
   "metadata": {},
   "outputs": [],
   "source": [
    "def download_content(video_url,coach_handel):\n",
    "    from selenium import webdriver\n",
    "    from selenium.webdriver.chrome.options import Options\n",
    "    from selenium.webdriver.common.by import By\n",
    "    import time, os,requests\n",
    "    from bs4 import BeautifulSoup\n",
    "\n",
    "\n",
    "    #create results folder if does not exists\n",
    "    content_name = video_url.split('/')[-2]\n",
    "    res_folder=os.getcwd()+'/results/'+str(coach_handel)+'/'+str(content_name)\n",
    "    if os.path.exists(res_folder) and os.path.isdir(res_folder): shutil.rmtree(res_folder)\n",
    "    os.makedirs(res_folder, exist_ok=True)\n",
    "    #initiate webdriver\n",
    "    chrome_options = Options()\n",
    "    chrome_options.add_argument(\"--headless\")  # Optional: run in headless mode\n",
    "    prefs = {\"download.default_directory\" : res_folder}\n",
    "    chrome_options.add_experimental_option(\"prefs\",prefs)\n",
    "\n",
    "    driver = webdriver.Chrome(options=chrome_options)\n",
    "    driver.get('https://fastdl.app/en')\n",
    "    driver.implicitly_wait(2) \n",
    "    \n",
    "    while True:\n",
    "        try:\n",
    "            input_element=driver.find_element(By.CSS_SELECTOR,'input')\n",
    "            driver.implicitly_wait(3)\n",
    "            input_element.click()\n",
    "\n",
    "            driver.implicitly_wait(3) \n",
    "            input_element.send_keys(video_url)\n",
    "            driver.implicitly_wait(3) \n",
    "            button = driver.find_element(By.CSS_SELECTOR, 'button.search-form__button[type=\"submit\"]')\n",
    "            button.click()\n",
    "            driver.implicitly_wait(3)\n",
    "            time.sleep(2)\n",
    "            break\n",
    "        except:\n",
    "            time.sleep(0.5)\n",
    "            pass\n",
    "\n",
    "    while True:\n",
    "        try:\n",
    "            buttons = driver.find_elements(By.CSS_SELECTOR, \"a.button.button--filled.button__download\")\n",
    "            button_list=[]\n",
    "            for button in buttons:\n",
    "                driver.implicitly_wait(5) \n",
    "                button_list.append(button.get_attribute('href'))\n",
    "            for i,url in enumerate(button_list):\n",
    "                if '.mp4' in url: extension='.mp4'\n",
    "                else: extension='.jpg'\n",
    "                r = requests.get(url)\n",
    "                results_directory=res_folder+'/'+str(content_name)+'_'+str(i)+extension\n",
    "                with open(results_directory, 'wb') as f:\n",
    "                    f.write(r.content)\n",
    "            Last_created_file=str(content_name)+'_'+str(i)+extension\n",
    "            if Last_created_file in [f for f in os.listdir(res_folder) if os.path.isfile(os.path.join(res_folder, f))]:\n",
    "                break\n",
    "        except:\n",
    "            time.sleep(0.5)\n",
    "            pass\n",
    "\n",
    "\n",
    "    driver.quit()\n",
    "    files = [res_folder+'/'+f for f in os.listdir(res_folder) if os.path.isfile(os.path.join(res_folder, f))]\n",
    "    return files\n",
    "\n",
    "file_names=download_content(video_url='https://www.instagram.com/p/DDAVJ0DoyVc/?hl=en',coach_handel='emmafituk_')"
   ]
  },
  {
   "cell_type": "code",
   "execution_count": null,
   "metadata": {},
   "outputs": [],
   "source": [
    "if '.mp4' in file_names[0]:\n",
    "    print('ok!')"
   ]
  },
  {
   "cell_type": "code",
   "execution_count": null,
   "metadata": {},
   "outputs": [],
   "source": [
    "file_names[0]\n"
   ]
  },
  {
   "cell_type": "code",
   "execution_count": null,
   "metadata": {},
   "outputs": [],
   "source": [
    "directory=''\n",
    "for i,f in enumerate(file_names[0].split('/')):\n",
    "    if i != len(file_names[0].split('/'))-1:\n",
    "        directory=directory+f+'/'\n",
    "directory[:-1]"
   ]
  },
  {
   "cell_type": "code",
   "execution_count": null,
   "metadata": {},
   "outputs": [],
   "source": [
    "from utils.coach_ig_info import coach_handles_all\n",
    "\n",
    "coach_handles_all_l=coach_handles_all()\n",
    "coach_urls = ['https://www.instagram.com/'+str(h)+'/?hl=en' for h in coach_handles_all_l.handle]"
   ]
  },
  {
   "cell_type": "code",
   "execution_count": null,
   "metadata": {},
   "outputs": [],
   "source": []
  },
  {
   "cell_type": "code",
   "execution_count": null,
   "metadata": {},
   "outputs": [],
   "source": [
    "coach_urls"
   ]
  },
  {
   "cell_type": "code",
   "execution_count": null,
   "metadata": {},
   "outputs": [],
   "source": []
  }
 ],
 "metadata": {
  "kernelspec": {
   "display_name": ".venv",
   "language": "python",
   "name": "python3"
  },
  "language_info": {
   "codemirror_mode": {
    "name": "ipython",
    "version": 3
   },
   "file_extension": ".py",
   "mimetype": "text/x-python",
   "name": "python",
   "nbconvert_exporter": "python",
   "pygments_lexer": "ipython3",
   "version": "3.13.0"
  }
 },
 "nbformat": 4,
 "nbformat_minor": 2
}
