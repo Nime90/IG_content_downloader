{
 "cells": [
  {
   "cell_type": "code",
   "execution_count": null,
   "metadata": {},
   "outputs": [],
   "source": [
    "from selenium import webdriver\n",
    "from selenium.webdriver.chrome.options import Options\n",
    "from selenium.webdriver.common.by import By\n",
    "import time, os,requests\n",
    "from time import sleep\n",
    "from bs4 import BeautifulSoup\n",
    "from selenium.webdriver.common.keys import Keys\n",
    "from selenium.webdriver.common.action_chains import ActionChains\n",
    "\n",
    "video_url = 'https://www.instagram.com/emmafituk_/?hl=en'\n",
    "#create results folder if does not exists\n",
    "res_folder=os.getcwd()+'/results'\n",
    "os.makedirs(res_folder, exist_ok=True)\n",
    "#initiate webdriver\n",
    "chrome_options = Options()\n",
    "#chrome_options.add_argument(\"--headless\")  # Optional: run in headless mode\n",
    "prefs = {\"download.default_directory\" : res_folder}\n",
    "chrome_options.add_experimental_option(\"prefs\",prefs)\n",
    "chrome_options.add_argument(\"--headless=new\")  # Use the newer headless mode\n",
    "chrome_options.add_argument(\"--window-size=1920,1080\")  # Set a large enough window size\n",
    "chrome_options.add_argument(\"--disable-gpu\")  # Sometimes useful in headless\n",
    "chrome_options.add_argument(\"--no-sandbox\")\n",
    "chrome_options.add_argument(\"--disable-dev-shm-usage\")\n",
    "\n",
    "\n",
    "driver = webdriver.Chrome(options=chrome_options)\n",
    "driver.get('https://fastdl.app/en')\n",
    "driver.implicitly_wait(10) \n",
    "\n",
    "input_element=driver.find_element(By.CSS_SELECTOR,'input')\n",
    "driver.implicitly_wait(10)\n",
    "input_element.click()\n",
    "\n",
    "driver.implicitly_wait(10) \n",
    "input_element.send_keys(video_url)\n",
    "driver.implicitly_wait(10) \n",
    "button = driver.find_element(By.CSS_SELECTOR, 'button.search-form__button[type=\"submit\"]')\n",
    "button.click()\n",
    "driver.implicitly_wait(10)\n",
    "time.sleep(5)\n",
    "\n",
    "body = driver.find_element(\"tag name\", \"body\")\n",
    "print(driver.execute_script(\"return document.body.scrollHeight\"))\n",
    "\n",
    "# Function to scroll down slowly\n",
    "def smooth_scroll_down(driver, scroll_pause_time=0.2, pixels_per_scroll=100):\n",
    "  current_scroll = 0  # Keep track of the current scroll position\n",
    "  while current_scroll < 10000:\n",
    "    driver.execute_script(f\"window.scrollBy(0, {pixels_per_scroll});\")\n",
    "    current_scroll += pixels_per_scroll\n",
    "    sleep(scroll_pause_time)\n",
    "\n",
    "# Call the smooth scrolling function\n",
    "smooth_scroll_down(driver)\n",
    "\n",
    "print(driver.execute_script(\"return document.body.scrollHeight\"))\n",
    "\n",
    "time.sleep(5)\n",
    "buttons = driver.find_elements(By.CSS_SELECTOR, \"a.button.button--filled.button__download\")\n",
    "len(buttons)"
   ]
  },
  {
   "cell_type": "code",
   "execution_count": null,
   "metadata": {},
   "outputs": [],
   "source": [
    "\n",
    "driver.quit()\n"
   ]
  },
  {
   "cell_type": "code",
   "execution_count": null,
   "metadata": {},
   "outputs": [],
   "source": [
    "buttons[0].get_attribute('href')"
   ]
  },
  {
   "cell_type": "code",
   "execution_count": null,
   "metadata": {},
   "outputs": [],
   "source": []
  }
 ],
 "metadata": {
  "kernelspec": {
   "display_name": ".venv",
   "language": "python",
   "name": "python3"
  },
  "language_info": {
   "codemirror_mode": {
    "name": "ipython",
    "version": 3
   },
   "file_extension": ".py",
   "mimetype": "text/x-python",
   "name": "python",
   "nbconvert_exporter": "python",
   "pygments_lexer": "ipython3",
   "version": "3.13.0"
  }
 },
 "nbformat": 4,
 "nbformat_minor": 2
}
